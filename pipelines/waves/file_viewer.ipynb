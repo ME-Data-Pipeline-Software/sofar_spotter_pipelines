{
 "cells": [
  {
   "cell_type": "code",
   "execution_count": 1,
   "metadata": {},
   "outputs": [],
   "source": [
    "import xarray as xr\n",
    "\n",
    "ds = xr.open_dataset(\n",
    "    \"../../storage/root/data/clallam.spotter-wave-400ms.a1/clallam.spotter-wave-400ms.a1.20210823.233744.nc\"\n",
    ")\n"
   ]
  },
  {
   "cell_type": "code",
   "execution_count": 2,
   "metadata": {},
   "outputs": [],
   "source": [
    "ds_gps = xr.open_dataset(\n",
    "    \"../../storage/root/data/clallam.spotter-gps-1min.a1/clallam.spotter-gps-1min.a1.20210928.210508.nc\")"
   ]
  },
  {
   "cell_type": "code",
   "execution_count": null,
   "metadata": {},
   "outputs": [],
   "source": []
  }
 ],
 "metadata": {
  "kernelspec": {
   "display_name": "Python 3.9.7 ('base')",
   "language": "python",
   "name": "python3"
  },
  "language_info": {
   "codemirror_mode": {
    "name": "ipython",
    "version": 3
   },
   "file_extension": ".py",
   "mimetype": "text/x-python",
   "name": "python",
   "nbconvert_exporter": "python",
   "pygments_lexer": "ipython3",
   "version": "3.9.15"
  },
  "orig_nbformat": 4,
  "vscode": {
   "interpreter": {
    "hash": "87d3710468063bf50070ce0779bedd2af7612945246e2bad7eab933374971905"
   }
  }
 },
 "nbformat": 4,
 "nbformat_minor": 2
}
